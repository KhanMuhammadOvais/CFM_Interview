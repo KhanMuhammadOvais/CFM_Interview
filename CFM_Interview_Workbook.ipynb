{
 "cells": [
  {
   "cell_type": "code",
   "execution_count": 1,
   "id": "277d09a4",
   "metadata": {},
   "outputs": [],
   "source": [
    "from requests import get\n",
    "page1_url = 'https://www.capterra.com.au/reviews/111640/cashflow-manager'\n",
    "page1_response = get(page1_url)\n",
    "page2_url = 'https://www.capterra.com.au/reviews/111640/cashflow-manager?page=2'\n",
    "page2_response = get(page1_url)"
   ]
  },
  {
   "cell_type": "code",
   "execution_count": 2,
   "id": "3aca1573",
   "metadata": {},
   "outputs": [],
   "source": [
    "from bs4 import BeautifulSoup\n",
    "page1_html_soup = BeautifulSoup(page1_response.text, 'html.parser')\n",
    "page2_html_soup = BeautifulSoup(page2_response.text, 'html.parser')"
   ]
  },
  {
   "cell_type": "code",
   "execution_count": 3,
   "id": "6811cb15",
   "metadata": {},
   "outputs": [],
   "source": [
    "page1_containers = page1_html_soup.find_all('div', class_ = 'i18n-translation_container review-card pt-4 py-3 py-md-5 border-bottom border-primary')\n",
    "page2_containers = page2_html_soup.find_all('div', class_ = 'i18n-translation_container review-card pt-4 py-3 py-md-5 border-bottom border-primary')\n"
   ]
  },
  {
   "cell_type": "code",
   "execution_count": 4,
   "id": "8290b35e",
   "metadata": {},
   "outputs": [],
   "source": [
    "# occurrence = 2\n",
    "\n",
    "# # Finding nth occurrence of substring\n",
    "# val = -1\n",
    "# for i in range(0, occurrence):\n",
    "#     val = str(first_review).find('span', val + 1)\n",
    "       \n",
    "# # Printing nth occurrence\n",
    "# print (\"Nth occurrence is at\", val)"
   ]
  },
  {
   "cell_type": "code",
   "execution_count": 5,
   "id": "211ac3df",
   "metadata": {},
   "outputs": [],
   "source": [
    "# Lists to store the scraped data in\n",
    "reviewer_names = []\n",
    "overall_ratings = []\n",
    "ease_ratings = []\n",
    "function_ratings = []\n",
    "customer_support_ratings = []\n",
    "value_ratings = []\n",
    "comment_headings = []\n",
    "actual_comments = []\n",
    "positives = []\n",
    "negatives = []\n",
    "\n",
    "# Extract data from individual container\n",
    "for container in page1_containers:\n",
    "    \n",
    "    # Reviewer Name\n",
    "    name = container.h5.text.replace('\\n','').replace('    ','')\n",
    "    reviewer_names.append(name)\n",
    "    \n",
    "    # Overall Rating\n",
    "    overall = int(container.find_all('span', class_ = 'text-nowrap d-inline-block text-right review-stars__text font-weight-bold')[0].text.replace('\\n','').replace(' ','').replace('/5',''))\n",
    "    overall_ratings.append(overall)\n",
    "    \n",
    "    # Ease of Use Rating\n",
    "    ease = int(container.find_all('span', class_ = 'text-nowrap d-inline-block text-right review-stars__text font-weight-bold')[1].text.replace('\\n','').replace(' ','').replace('/5',''))\n",
    "    ease_ratings.append(ease)\n",
    "    \n",
    "    # Features and Functions Ratings\n",
    "    function = int(container.find_all('span', class_ = 'text-nowrap d-inline-block text-right review-stars__text font-weight-bold')[2].text.replace('\\n','').replace(' ','').replace('/5',''))\n",
    "    function_ratings.append(function)\n",
    "    \n",
    "    # Customer Support Ratings\n",
    "    try:\n",
    "        support = int(container.find_all('span', class_ = 'text-nowrap d-inline-block text-right review-stars__text font-weight-bold')[3].text.replace('\\n','').replace(' ','').replace('/5',''))\n",
    "        customer_support_ratings.append(support)\n",
    "    except:\n",
    "        customer_support_ratings.append('')\n",
    "        \n",
    "    # Value for Money Ratings\n",
    "    try:\n",
    "        value = int(container.find_all('span', class_ = 'text-nowrap d-inline-block text-right review-stars__text font-weight-bold')[4].text.replace('\\n','').replace(' ','').replace('/5',''))\n",
    "        value_ratings.append(value)\n",
    "    except:\n",
    "        value_ratings.append('')\n",
    "    \n",
    "    # Comment Heading\n",
    "    heading = container.h3.text.replace('\"','')\n",
    "    comment_headings.append(heading)\n",
    "    \n",
    "    # Actual Comment\n",
    "    comment = container.find_all('span')[-5].text\n",
    "    actual_comments.append(comment)\n",
    "    \n",
    "    # Positive Note\n",
    "    positive_note = container.find_all('span')[-4].text\n",
    "    positives.append(positive_note)\n",
    "    \n",
    "    # Negative Note\n",
    "    negative_note = container.find_all('span')[-3].text\n",
    "    negatives.append(negative_note)\n",
    "\n",
    "for container in page2_containers:\n",
    "    \n",
    "    # Reviewer Name\n",
    "    name = container.h5.text.replace('\\n','').replace('    ','')\n",
    "    reviewer_names.append(name)\n",
    "    \n",
    "    # Overall Rating\n",
    "    overall = int(container.find_all('span', class_ = 'text-nowrap d-inline-block text-right review-stars__text font-weight-bold')[0].text.replace('\\n','').replace(' ','').replace('/5',''))\n",
    "    overall_ratings.append(overall)\n",
    "    \n",
    "    # Ease of Use Rating\n",
    "    ease = int(container.find_all('span', class_ = 'text-nowrap d-inline-block text-right review-stars__text font-weight-bold')[1].text.replace('\\n','').replace(' ','').replace('/5',''))\n",
    "    ease_ratings.append(ease)\n",
    "    \n",
    "    # Features and Functions Ratings\n",
    "    function = int(container.find_all('span', class_ = 'text-nowrap d-inline-block text-right review-stars__text font-weight-bold')[2].text.replace('\\n','').replace(' ','').replace('/5',''))\n",
    "    function_ratings.append(function)\n",
    "    \n",
    "    # Customer Support Ratings\n",
    "    try:\n",
    "        support = int(container.find_all('span', class_ = 'text-nowrap d-inline-block text-right review-stars__text font-weight-bold')[3].text.replace('\\n','').replace(' ','').replace('/5',''))\n",
    "        customer_support_ratings.append(support)\n",
    "    except:\n",
    "        customer_support_ratings.append('')\n",
    "        \n",
    "    # Value for Money Ratings\n",
    "    try:\n",
    "        value = int(container.find_all('span', class_ = 'text-nowrap d-inline-block text-right review-stars__text font-weight-bold')[4].text.replace('\\n','').replace(' ','').replace('/5',''))\n",
    "        value_ratings.append(value)\n",
    "    except:\n",
    "        value_ratings.append('')\n",
    "    \n",
    "    # Comment Heading\n",
    "    heading = container.h3.text.replace('\"','')\n",
    "    comment_headings.append(heading)\n",
    "    \n",
    "    # Actual Comment\n",
    "    comment = container.find_all('span')[-5].text\n",
    "    actual_comments.append(comment)\n",
    "    \n",
    "    # Positive Note\n",
    "    positive_note = container.find_all('span')[-4].text\n",
    "    positives.append(positive_note)\n",
    "    \n",
    "    # Negative Note\n",
    "    negative_note = container.find_all('span')[-3].text\n",
    "    negatives.append(negative_note)"
   ]
  },
  {
   "cell_type": "code",
   "execution_count": 6,
   "id": "9c0b08c9",
   "metadata": {},
   "outputs": [
    {
     "data": {
      "text/html": [
       "<div>\n",
       "<style scoped>\n",
       "    .dataframe tbody tr th:only-of-type {\n",
       "        vertical-align: middle;\n",
       "    }\n",
       "\n",
       "    .dataframe tbody tr th {\n",
       "        vertical-align: top;\n",
       "    }\n",
       "\n",
       "    .dataframe thead th {\n",
       "        text-align: right;\n",
       "    }\n",
       "</style>\n",
       "<table border=\"1\" class=\"dataframe\">\n",
       "  <thead>\n",
       "    <tr style=\"text-align: right;\">\n",
       "      <th></th>\n",
       "      <th>Reviewer_Names</th>\n",
       "      <th>Overall_Ratings</th>\n",
       "      <th>Ease_Of_Use_Ratings</th>\n",
       "      <th>Functionality_Ratings</th>\n",
       "      <th>Customer_Support_Ratings</th>\n",
       "      <th>Value_For_Money_Ratings</th>\n",
       "      <th>Comment_Headings</th>\n",
       "      <th>Actual_Comments</th>\n",
       "      <th>Postive_Notes</th>\n",
       "      <th>Negative_Note</th>\n",
       "    </tr>\n",
       "  </thead>\n",
       "  <tbody>\n",
       "    <tr>\n",
       "      <th>0</th>\n",
       "      <td>Warren R.</td>\n",
       "      <td>3</td>\n",
       "      <td>4</td>\n",
       "      <td>3</td>\n",
       "      <td>1</td>\n",
       "      <td>1</td>\n",
       "      <td>Worked well for a number of years but earlier ...</td>\n",
       "      <td>\\n\\n\\n\\n</td>\n",
       "      <td>For a simple business, Cashflow Manager Gold w...</td>\n",
       "      <td>Perhaps, with cost being a factor in our initi...</td>\n",
       "    </tr>\n",
       "    <tr>\n",
       "      <th>1</th>\n",
       "      <td>Peter S.</td>\n",
       "      <td>3</td>\n",
       "      <td>3</td>\n",
       "      <td>3</td>\n",
       "      <td>1</td>\n",
       "      <td>3</td>\n",
       "      <td>Beware of This Company</td>\n",
       "      <td>Very bad experience dealing with a disreputabl...</td>\n",
       "      <td>I bought this software several years ago after...</td>\n",
       "      <td>Be prepared to be harassed by this company. Af...</td>\n",
       "    </tr>\n",
       "    <tr>\n",
       "      <th>2</th>\n",
       "      <td>Russell H.</td>\n",
       "      <td>3</td>\n",
       "      <td>3</td>\n",
       "      <td>3</td>\n",
       "      <td>1</td>\n",
       "      <td>1</td>\n",
       "      <td>Very disappointed</td>\n",
       "      <td>I used Cashflow Manager for many years without...</td>\n",
       "      <td>Was fairly easy to use and my accountant was a...</td>\n",
       "      <td>They implemented yearly subscription fees afte...</td>\n",
       "    </tr>\n",
       "  </tbody>\n",
       "</table>\n",
       "</div>"
      ],
      "text/plain": [
       "  Reviewer_Names  Overall_Ratings  Ease_Of_Use_Ratings  Functionality_Ratings  \\\n",
       "0      Warren R.                3                    4                      3   \n",
       "1       Peter S.                3                    3                      3   \n",
       "2     Russell H.                3                    3                      3   \n",
       "\n",
       "  Customer_Support_Ratings Value_For_Money_Ratings  \\\n",
       "0                        1                       1   \n",
       "1                        1                       3   \n",
       "2                        1                       1   \n",
       "\n",
       "                                    Comment_Headings  \\\n",
       "0  Worked well for a number of years but earlier ...   \n",
       "1                             Beware of This Company   \n",
       "2                                  Very disappointed   \n",
       "\n",
       "                                     Actual_Comments  \\\n",
       "0                                           \\n\\n\\n\\n   \n",
       "1  Very bad experience dealing with a disreputabl...   \n",
       "2  I used Cashflow Manager for many years without...   \n",
       "\n",
       "                                       Postive_Notes  \\\n",
       "0  For a simple business, Cashflow Manager Gold w...   \n",
       "1  I bought this software several years ago after...   \n",
       "2  Was fairly easy to use and my accountant was a...   \n",
       "\n",
       "                                       Negative_Note  \n",
       "0  Perhaps, with cost being a factor in our initi...  \n",
       "1  Be prepared to be harassed by this company. Af...  \n",
       "2  They implemented yearly subscription fees afte...  "
      ]
     },
     "execution_count": 6,
     "metadata": {},
     "output_type": "execute_result"
    }
   ],
   "source": [
    "import pandas as pd\n",
    "df = pd.DataFrame({'Reviewer_Names': reviewer_names,\n",
    "                   'Overall_Ratings': overall_ratings,\n",
    "                   'Ease_Of_Use_Ratings': ease_ratings,\n",
    "                   'Functionality_Ratings': function_ratings,\n",
    "                   'Customer_Support_Ratings': customer_support_ratings,\n",
    "                   'Value_For_Money_Ratings': value_ratings,\n",
    "                   'Comment_Headings': comment_headings,\n",
    "                   'Actual_Comments': actual_comments,\n",
    "                   'Postive_Notes': positives,\n",
    "                   'Negative_Note': negatives\n",
    "                   })\n",
    "df = df.drop_duplicates()\n",
    "df.head(3)"
   ]
  },
  {
   "cell_type": "code",
   "execution_count": 7,
   "id": "48d83651",
   "metadata": {},
   "outputs": [],
   "source": [
    "df.to_excel(\"reviews.xlsx\")"
   ]
  },
  {
   "cell_type": "code",
   "execution_count": 8,
   "id": "c8900e97",
   "metadata": {},
   "outputs": [],
   "source": [
    "from nltk.corpus import reuters, stopwords\n",
    "from nltk.util import ngrams\n",
    "from nltk.tokenize import word_tokenize\n",
    "from nltk.stem import WordNetLemmatizer\n",
    "import re"
   ]
  },
  {
   "cell_type": "code",
   "execution_count": 9,
   "id": "0617e6f0",
   "metadata": {},
   "outputs": [],
   "source": [
    "lemmatizer = WordNetLemmatizer()"
   ]
  },
  {
   "cell_type": "code",
   "execution_count": 10,
   "id": "fa79a312",
   "metadata": {},
   "outputs": [],
   "source": [
    "def process_text(comment):\n",
    "    sw = set(stopwords.words('english'))\n",
    "    regex = re.compile(\"[^a-zA-Z ]\")\n",
    "    re_clean = regex.sub('', comment)\n",
    "    words = word_tokenize(re_clean)\n",
    "    lem = [lemmatizer.lemmatize(word) for word in words]\n",
    "    output = [word.lower() for word in lem if word.lower() not in sw]\n",
    "    return output"
   ]
  },
  {
   "cell_type": "code",
   "execution_count": 11,
   "id": "cc781cdc",
   "metadata": {},
   "outputs": [],
   "source": [
    "processed = []\n",
    "for each_comment in df['Actual_Comments'].tolist():\n",
    "    processed.append(process_text(each_comment))\n",
    "processed = [item for sublist in processed for item in sublist]"
   ]
  },
  {
   "cell_type": "code",
   "execution_count": 12,
   "id": "9057ee5f",
   "metadata": {},
   "outputs": [
    {
     "name": "stdout",
     "output_type": "stream",
     "text": [
      "{('cashflow', 'manager'): 4, ('customer', 'service'): 3, ('sensitive', 'content'): 3, ('content', 'hidden'): 3, ('never', 'get'): 2, ('service', 'wa'): 2, ('call', 'wa'): 2, ('using', 'product'): 2, ('happy', 'service'): 2, ('book', 'keeping'): 2}\n"
     ]
    }
   ],
   "source": [
    "# Import Counter\n",
    "from collections import Counter\n",
    "\n",
    "# Get bigram count\n",
    "bigram_counts = Counter(ngrams(processed, n=2))\n",
    "# print(dict(bigram_counts))\n",
    "\n",
    "# Print top x bigrams\n",
    "print(dict(bigram_counts.most_common(10)))"
   ]
  },
  {
   "cell_type": "code",
   "execution_count": 13,
   "id": "713b7c4b",
   "metadata": {},
   "outputs": [
    {
     "name": "stdout",
     "output_type": "stream",
     "text": [
      "{'wa': 15, 'product': 6, 'customer': 6, 'support': 6, 'service': 6, 'cashflow': 5, 'call': 5, 'manager': 4, 'pay': 4, 'good': 4, 'email': 4, 'get': 4, 'old': 4, 'subscription': 4, 'business': 4, 'never': 4, 'happy': 4, 'put': 3, 'year': 3, 'without': 3}\n"
     ]
    }
   ],
   "source": [
    "# Get word counts\n",
    "word_counts = Counter(processed)\n",
    "#print(dict(word_counts))\n",
    "\n",
    "# Get top x words\n",
    "print(dict(word_counts.most_common(20)))"
   ]
  },
  {
   "cell_type": "code",
   "execution_count": 14,
   "id": "77743a37",
   "metadata": {},
   "outputs": [
    {
     "data": {
      "image/png": "[encoded data removed]",
      "text/plain": [
       "<Figure size 1080x432 with 1 Axes>"
      ]
     },
     "metadata": {
      "needs_background": "light"
     },
     "output_type": "display_data"
    }
   ],
   "source": [
    "import matplotlib.pyplot as plt\n",
    "keys = dict(bigram_counts.most_common(20)).keys()\n",
    "values = dict(bigram_counts.most_common(20)).values()\n",
    "bigram_df = pd.DataFrame({'Keys':keys,\n",
    "                          'Values':values})\n",
    "fig, ax = plt.subplots()\n",
    "bigram_df.plot(kind='line',x='Keys',y='Values',figsize=(15,6),legend=False,ax=ax);\n",
    "ax.set_xticks(range(len(bigram_df.Keys)));\n",
    "ax.set_xticklabels(bigram_df.Keys.values.tolist(), rotation=90);"
   ]
  },
  {
   "cell_type": "code",
   "execution_count": 15,
   "id": "bc5fa69e",
   "metadata": {},
   "outputs": [],
   "source": [
    "bigram_df.to_excel(\"bigrams.xlsx\", index=False)"
   ]
  }
 ],
 "metadata": {
  "kernelspec": {
   "display_name": "Python 3",
   "language": "python",
   "name": "python3"
  },
  "language_info": {
   "codemirror_mode": {
    "name": "ipython",
    "version": 3
   },
   "file_extension": ".py",
   "mimetype": "text/x-python",
   "name": "python",
   "nbconvert_exporter": "python",
   "pygments_lexer": "ipython3",
   "version": "3.8.5"
  }
 },
 "nbformat": 4,
 "nbformat_minor": 5
}
